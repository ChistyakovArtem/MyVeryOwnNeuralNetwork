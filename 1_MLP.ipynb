{
  "nbformat": 4,
  "nbformat_minor": 0,
  "metadata": {
    "kernelspec": {
      "display_name": "Python 3",
      "language": "python",
      "name": "python3"
    },
    "language_info": {
      "codemirror_mode": {
        "name": "ipython",
        "version": 2
      },
      "file_extension": ".py",
      "mimetype": "text/x-python",
      "name": "python",
      "nbconvert_exporter": "python",
      "pygments_lexer": "ipython2",
      "version": "2.7.6"
    },
    "colab": {
      "name": "1 - MLP.ipynb",
      "provenance": []
    }
  },
  "cells": [
    {
      "cell_type": "code",
      "metadata": {
        "collapsed": true,
        "id": "k0QTo0qJeB_P"
      },
      "source": [
        "import numpy as np"
      ],
      "execution_count": null,
      "outputs": []
    },
    {
      "cell_type": "code",
      "metadata": {
        "pycharm": {
          "name": "#%%\n"
        },
        "id": "ZumGsTAleB_Q"
      },
      "source": [
        "class Regularizations:\n",
        "\n",
        "    class L2:\n",
        "        @staticmethod\n",
        "        def reg(a):\n",
        "            return np.mean(a**2)\n",
        "\n",
        "        @staticmethod\n",
        "        def reg_prime(a):\n",
        "            return 2 * a / a.size"
      ],
      "execution_count": null,
      "outputs": []
    },
    {
      "cell_type": "code",
      "metadata": {
        "pycharm": {
          "name": "#%%\n"
        },
        "id": "_jN6n4jpeB_R"
      },
      "source": [
        "class Losses:\n",
        "\n",
        "    class MSE:\n",
        "        @staticmethod\n",
        "        def loss(y_true, y_pred):\n",
        "            return np.mean(np.power(y_true-y_pred, 2))\n",
        "\n",
        "        @staticmethod\n",
        "        def loss_prime(y_true, y_pred):\n",
        "            # print(y_true.shape, y_pred.shape)\n",
        "            return 2*(y_pred-y_true) / y_true.size"
      ],
      "execution_count": null,
      "outputs": []
    },
    {
      "cell_type": "code",
      "metadata": {
        "pycharm": {
          "name": "#%%\n"
        },
        "id": "1IJsZrxkeB_R"
      },
      "source": [
        "class Activations: # alphabet order\n",
        "\n",
        "    class activation:\n",
        "        @staticmethod\n",
        "        def activation(a):\n",
        "            return a\n",
        "\n",
        "        @staticmethod\n",
        "        def activation_prime(a):\n",
        "            return 1\n",
        "\n",
        "\n",
        "    class ReLU(activation):\n",
        "        @staticmethod\n",
        "        def activation(a):\n",
        "            return np.maximum(a, 0)\n",
        "\n",
        "        @staticmethod\n",
        "        def activation_prime(a):\n",
        "            ret = np.array(1 * (a > 0))\n",
        "            return ret\n",
        "\n",
        "\n",
        "    class sigmoid(activation):\n",
        "        @staticmethod\n",
        "        def activation(a):\n",
        "            return 1 / (1 + np.exp(-a))\n",
        "\n",
        "        @staticmethod\n",
        "        def activation_prime(a):\n",
        "            return a * (1 - a)\n",
        "\n",
        "\n",
        "    class softmax(activation):\n",
        "        @staticmethod\n",
        "        def activation(a):\n",
        "            exp = np.exp(a)\n",
        "            return exp / (0.0001 + np.sum(exp, axis=0)) # mb 0\n",
        "\n",
        "        @staticmethod\n",
        "        def activation_prime(a):\n",
        "            t = np.eye(N=a.shape[0], M=a.shape[1])\n",
        "            return t * a * (1 - a) - (1 - t) * a * a\n",
        "\n",
        "\n",
        "    class stable_softmax(activation):\n",
        "        @staticmethod\n",
        "        def activation(a):\n",
        "            a = a - max(a)\n",
        "            exp = np.exp(a)\n",
        "            return exp / np.sum(exp, axis=1)\n",
        "\n",
        "        # dont know prime\n",
        "\n",
        "\n",
        "    class tanh(activation):\n",
        "        @staticmethod\n",
        "        def activation(a):\n",
        "            return np.tanh(a)\n",
        "\n",
        "        @staticmethod\n",
        "        def activation_prime(a):\n",
        "            return 1 - np.tanh(a)**2"
      ],
      "execution_count": null,
      "outputs": []
    },
    {
      "cell_type": "code",
      "metadata": {
        "pycharm": {
          "name": "#%%\n"
        },
        "id": "a1Bqg1_eeB_S"
      },
      "source": [
        "class Layers:\n",
        "\n",
        "    class DummyLayer:\n",
        "\n",
        "        def __init__(self):\n",
        "            self.input_shape = None\n",
        "            self.output_shape = None\n",
        "\n",
        "        def forward_pass(self, input):\n",
        "            raise NotImplementedError\n",
        "\n",
        "        def backward_pass(self, output):\n",
        "            raise NotImplementedError\n",
        "\n",
        "\n",
        "\n",
        "    class Dense(DummyLayer):\n",
        "\n",
        "        def __init__(self, input_shape=None, output_shape=None, learning_rate=None, reg_const=None, reg_type=None):\n",
        "            super().__init__()\n",
        "            self.input_shape = input_shape\n",
        "            self.output_shape = output_shape\n",
        "\n",
        "            self.input = None\n",
        "            self.output = None\n",
        "\n",
        "            self.learning_rate = learning_rate\n",
        "            self.reg_const = reg_const\n",
        "\n",
        "            self.reg_type = reg_type\n",
        "\n",
        "            if self.reg_type is None:\n",
        "                self.reg_function = None\n",
        "                self.reg_prime = None\n",
        "            else:\n",
        "                self.reg_function = reg_type.reg\n",
        "                self.reg_prime = reg_type.reg_prime\n",
        "\n",
        "            self.features_weights = np.random.rand(input_shape, output_shape) - 0.5\n",
        "            self.bias_weights = np.random.rand(1, output_shape) - 0.5\n",
        "\n",
        "            self.learnable = True\n",
        "\n",
        "        def forward_pass(self, input):\n",
        "            self.input = input\n",
        "            self.output = input @ self.features_weights + self.bias_weights\n",
        "            return self.output\n",
        "\n",
        "        def backward_pass(self, output_error):\n",
        "            input_error = output_error @ self.features_weights.T\n",
        "            weights_error = self.input.T @ output_error + self.reg_const * self.reg_prime(self.features_weights)\n",
        "            bias_error = np.sum(output_error, axis=0)\n",
        "\n",
        "            self.features_weights -= self.learning_rate * weights_error\n",
        "            self.bias_weights -= self.learning_rate * bias_error\n",
        "\n",
        "            return input_error\n",
        "\n",
        "\n",
        "\n",
        "    class Activation(DummyLayer):\n",
        "\n",
        "        def __init__(self, activation_type=Activations.tanh):\n",
        "            super().__init__()\n",
        "            self.activation = activation_type.activation\n",
        "            self.activation_prime = activation_type.activation_prime\n",
        "\n",
        "            self.input = None\n",
        "            self.output = None\n",
        "\n",
        "            self.learnable = False\n",
        "\n",
        "        def forward_pass(self, input):\n",
        "            self.input = input\n",
        "            self.output = self.activation(self.input)\n",
        "            return self.output\n",
        "\n",
        "        def backward_pass(self, output):\n",
        "            return self.activation_prime(self.input) * output"
      ],
      "execution_count": null,
      "outputs": []
    },
    {
      "cell_type": "code",
      "metadata": {
        "pycharm": {
          "name": "#%%\n"
        },
        "id": "KqRZ8lkVeB_S"
      },
      "source": [
        "class NeuralNetwork:\n",
        "\n",
        "    def __init__(self, layers, default_learning_rate=0.01, default_reg_const=0.01, reg_type=Regularizations.L2, loss_class=Losses.MSE):\n",
        "        self.layers = []\n",
        "        for layer in layers:\n",
        "            if layer.learnable:\n",
        "                if layer.learning_rate is None:\n",
        "                    layer.learning_rate = default_learning_rate\n",
        "\n",
        "                if layer.reg_const is None:\n",
        "                    layer.reg_const = default_reg_const\n",
        "\n",
        "                if layer.reg_type is None:\n",
        "                    layer.reg_function = reg_type.reg\n",
        "                    layer.reg_prime = reg_type.reg_prime\n",
        "            self.layers.append(layer)\n",
        "\n",
        "        self.loss = loss_class.loss\n",
        "        self.loss_prime = loss_class.loss_prime\n",
        "\n",
        "    def fit(self, X, y, cnt_epochs=10, cnt_it=10000): # add optimizer\n",
        "        it_for_epoch = cnt_it // cnt_epochs\n",
        "        for i in range(cnt_epochs):\n",
        "            for j in range(it_for_epoch):\n",
        "\n",
        "                output = X\n",
        "                for layer in self.layers:\n",
        "                    output = layer.forward_pass(output)\n",
        "\n",
        "                error = self.loss_prime(y, output)\n",
        "\n",
        "                for layer in reversed(self.layers):\n",
        "                    error = layer.backward_pass(error)\n",
        "\n",
        "            print('epoch %d/%d   error=%f' % (i+1, cnt_epochs, self.loss(y, self.predict(X))))\n",
        "\n",
        "    def predict(self, X):\n",
        "        output = X\n",
        "        for layer in self.layers:\n",
        "            output = layer.forward_pass(output)\n",
        "\n",
        "        return output"
      ],
      "execution_count": null,
      "outputs": []
    },
    {
      "cell_type": "code",
      "metadata": {
        "pycharm": {
          "name": "#%%\n"
        },
        "colab": {
          "base_uri": "https://localhost:8080/"
        },
        "id": "fazZka4AeB_T",
        "outputId": "8f3650da-df09-428d-9bef-ee54d728d0ee"
      },
      "source": [
        "X = np.array([[0, 0],\n",
        "              [0, 1],\n",
        "              [1, 0],\n",
        "              [1, 1]])\n",
        "\n",
        "y = np.array([[0],\n",
        "              [1],\n",
        "              [1],\n",
        "              [0]])\n",
        "\n",
        "print(X.shape, y.shape)\n",
        "\n",
        "nn = NeuralNetwork([\n",
        "    Layers.Dense(2, 2),\n",
        "    Layers.Activation(activation_type=Activations.tanh),\n",
        "    Layers.Dense(2, 1),\n",
        "    Layers.Activation(activation_type=Activations.tanh)\n",
        "], default_learning_rate=0.01, default_reg_const=0)\n",
        "\n",
        "nn.fit(X, y, cnt_epochs=10, cnt_it=30000)\n",
        "\n",
        "nn.predict(X)"
      ],
      "execution_count": null,
      "outputs": [
        {
          "output_type": "stream",
          "name": "stdout",
          "text": [
            "(4, 2) (4, 1)\n",
            "epoch 1/10   error=0.193711\n",
            "epoch 2/10   error=0.139242\n",
            "epoch 3/10   error=0.013316\n",
            "epoch 4/10   error=0.003122\n",
            "epoch 5/10   error=0.001546\n",
            "epoch 6/10   error=0.000989\n",
            "epoch 7/10   error=0.000715\n",
            "epoch 8/10   error=0.000555\n",
            "epoch 9/10   error=0.000451\n",
            "epoch 10/10   error=0.000378\n"
          ]
        },
        {
          "output_type": "execute_result",
          "data": {
            "text/plain": [
              "array([[0.00125322],\n",
              "       [0.9725487 ],\n",
              "       [0.97255891],\n",
              "       [0.00214815]])"
            ]
          },
          "metadata": {},
          "execution_count": 66
        }
      ]
    },
    {
      "cell_type": "code",
      "metadata": {
        "colab": {
          "base_uri": "https://localhost:8080/"
        },
        "id": "VfPgqyQ0ev9p",
        "outputId": "c66b83ea-f5c7-4307-ecd8-2f7ac096a19f"
      },
      "source": [
        "# for mnist in colab\n",
        "!wget https://raw.githubusercontent.com/yandexdataschool/Practical_DL/35c067adcc1ab364c8803830cdb34d0d50eea37e/week01_backprop/util.py -O util.py\n",
        "!wget https://raw.githubusercontent.com/yandexdataschool/Practical_DL/35c067adcc1ab364c8803830cdb34d0d50eea37e/week01_backprop/mnist.py -O mnist.py"
      ],
      "execution_count": null,
      "outputs": [
        {
          "output_type": "stream",
          "name": "stdout",
          "text": [
            "--2021-10-19 20:26:26--  https://raw.githubusercontent.com/yandexdataschool/Practical_DL/35c067adcc1ab364c8803830cdb34d0d50eea37e/week01_backprop/util.py\n",
            "Resolving raw.githubusercontent.com (raw.githubusercontent.com)... 185.199.111.133, 185.199.109.133, 185.199.110.133, ...\n",
            "Connecting to raw.githubusercontent.com (raw.githubusercontent.com)|185.199.111.133|:443... connected.\n",
            "HTTP request sent, awaiting response... 200 OK\n",
            "Length: 3782 (3.7K) [text/plain]\n",
            "Saving to: ‘util.py’\n",
            "\n",
            "util.py             100%[===================>]   3.69K  --.-KB/s    in 0s      \n",
            "\n",
            "2021-10-19 20:26:26 (40.8 MB/s) - ‘util.py’ saved [3782/3782]\n",
            "\n",
            "--2021-10-19 20:26:26--  https://raw.githubusercontent.com/yandexdataschool/Practical_DL/35c067adcc1ab364c8803830cdb34d0d50eea37e/week01_backprop/mnist.py\n",
            "Resolving raw.githubusercontent.com (raw.githubusercontent.com)... 185.199.108.133, 185.199.109.133, 185.199.110.133, ...\n",
            "Connecting to raw.githubusercontent.com (raw.githubusercontent.com)|185.199.108.133|:443... connected.\n",
            "HTTP request sent, awaiting response... 200 OK\n",
            "Length: 2697 (2.6K) [text/plain]\n",
            "Saving to: ‘mnist.py’\n",
            "\n",
            "mnist.py            100%[===================>]   2.63K  --.-KB/s    in 0s      \n",
            "\n",
            "2021-10-19 20:26:26 (16.0 MB/s) - ‘mnist.py’ saved [2697/2697]\n",
            "\n"
          ]
        }
      ]
    },
    {
      "cell_type": "code",
      "metadata": {
        "pycharm": {
          "name": "#%%\n"
        },
        "id": "Q-ElHWPbeB_U"
      },
      "source": [
        "import mnist"
      ],
      "execution_count": null,
      "outputs": []
    },
    {
      "cell_type": "code",
      "metadata": {
        "pycharm": {
          "name": "#%%\n"
        },
        "id": "rdd6AoUneB_U"
      },
      "source": [
        "from mnist import load_dataset\n",
        "X_train, y_train, X_val, y_val, X_test, y_test = load_dataset(flatten=True)"
      ],
      "execution_count": null,
      "outputs": []
    },
    {
      "cell_type": "code",
      "metadata": {
        "colab": {
          "base_uri": "https://localhost:8080/"
        },
        "id": "UhoEcc2JjnVW",
        "outputId": "07be8450-8a89-49c4-8f48-befb8ec406fe"
      },
      "source": [
        "a = y_train\n",
        "b = np.zeros((a.size, a.max()+1))\n",
        "b[np.arange(a.size),a] = 1\n",
        "b.shape"
      ],
      "execution_count": null,
      "outputs": [
        {
          "output_type": "execute_result",
          "data": {
            "text/plain": [
              "(50000, 10)"
            ]
          },
          "metadata": {},
          "execution_count": 70
        }
      ]
    },
    {
      "cell_type": "code",
      "metadata": {
        "id": "o76fm0yCmPN3"
      },
      "source": [
        "y_train_prepr = b"
      ],
      "execution_count": null,
      "outputs": []
    },
    {
      "cell_type": "code",
      "metadata": {
        "pycharm": {
          "name": "#%%\n"
        },
        "colab": {
          "base_uri": "https://localhost:8080/",
          "height": 354
        },
        "id": "2QgxqerteB_U",
        "outputId": "59d72746-535c-4e89-c6f6-31ff21f0031d"
      },
      "source": [
        "nn = NeuralNetwork([\n",
        "    Layers.Dense(28*28, 100),\n",
        "    Layers.Activation(activation_type=Activations.ReLU),\n",
        "    Layers.Dense(100, 200),\n",
        "    Layers.Activation(activation_type=Activations.ReLU),\n",
        "    Layers.Dense(200, 10),\n",
        "], default_learning_rate=0.01)\n",
        "\n",
        "nn.fit(X_train, y_train_prepr, cnt_epochs=100, cnt_it=1000)"
      ],
      "execution_count": null,
      "outputs": [
        {
          "output_type": "stream",
          "name": "stdout",
          "text": [
            "epoch 1/100   error=4.739836\n"
          ]
        },
        {
          "output_type": "error",
          "ename": "KeyboardInterrupt",
          "evalue": "ignored",
          "traceback": [
            "\u001b[0;31m---------------------------------------------------------------------------\u001b[0m",
            "\u001b[0;31mKeyboardInterrupt\u001b[0m                         Traceback (most recent call last)",
            "\u001b[0;32m<ipython-input-76-23e5081fb6b2>\u001b[0m in \u001b[0;36m<module>\u001b[0;34m()\u001b[0m\n\u001b[1;32m      7\u001b[0m ], default_learning_rate=0.01)\n\u001b[1;32m      8\u001b[0m \u001b[0;34m\u001b[0m\u001b[0m\n\u001b[0;32m----> 9\u001b[0;31m \u001b[0mnn\u001b[0m\u001b[0;34m.\u001b[0m\u001b[0mfit\u001b[0m\u001b[0;34m(\u001b[0m\u001b[0mX_train\u001b[0m\u001b[0;34m,\u001b[0m \u001b[0my_train_prepr\u001b[0m\u001b[0;34m,\u001b[0m \u001b[0mcnt_epochs\u001b[0m\u001b[0;34m=\u001b[0m\u001b[0;36m100\u001b[0m\u001b[0;34m,\u001b[0m \u001b[0mcnt_it\u001b[0m\u001b[0;34m=\u001b[0m\u001b[0;36m1000\u001b[0m\u001b[0;34m)\u001b[0m\u001b[0;34m\u001b[0m\u001b[0;34m\u001b[0m\u001b[0m\n\u001b[0m",
            "\u001b[0;32m<ipython-input-65-c61b9e453130>\u001b[0m in \u001b[0;36mfit\u001b[0;34m(self, X, y, cnt_epochs, cnt_it)\u001b[0m\n\u001b[1;32m     31\u001b[0m \u001b[0;34m\u001b[0m\u001b[0m\n\u001b[1;32m     32\u001b[0m                 \u001b[0;32mfor\u001b[0m \u001b[0mlayer\u001b[0m \u001b[0;32min\u001b[0m \u001b[0mreversed\u001b[0m\u001b[0;34m(\u001b[0m\u001b[0mself\u001b[0m\u001b[0;34m.\u001b[0m\u001b[0mlayers\u001b[0m\u001b[0;34m)\u001b[0m\u001b[0;34m:\u001b[0m\u001b[0;34m\u001b[0m\u001b[0;34m\u001b[0m\u001b[0m\n\u001b[0;32m---> 33\u001b[0;31m                     \u001b[0merror\u001b[0m \u001b[0;34m=\u001b[0m \u001b[0mlayer\u001b[0m\u001b[0;34m.\u001b[0m\u001b[0mbackward_pass\u001b[0m\u001b[0;34m(\u001b[0m\u001b[0merror\u001b[0m\u001b[0;34m)\u001b[0m\u001b[0;34m\u001b[0m\u001b[0;34m\u001b[0m\u001b[0m\n\u001b[0m\u001b[1;32m     34\u001b[0m \u001b[0;34m\u001b[0m\u001b[0m\n\u001b[1;32m     35\u001b[0m             \u001b[0mprint\u001b[0m\u001b[0;34m(\u001b[0m\u001b[0;34m'epoch %d/%d   error=%f'\u001b[0m \u001b[0;34m%\u001b[0m \u001b[0;34m(\u001b[0m\u001b[0mi\u001b[0m\u001b[0;34m+\u001b[0m\u001b[0;36m1\u001b[0m\u001b[0;34m,\u001b[0m \u001b[0mcnt_epochs\u001b[0m\u001b[0;34m,\u001b[0m \u001b[0mself\u001b[0m\u001b[0;34m.\u001b[0m\u001b[0mloss\u001b[0m\u001b[0;34m(\u001b[0m\u001b[0my\u001b[0m\u001b[0;34m,\u001b[0m \u001b[0mself\u001b[0m\u001b[0;34m.\u001b[0m\u001b[0mpredict\u001b[0m\u001b[0;34m(\u001b[0m\u001b[0mX\u001b[0m\u001b[0;34m)\u001b[0m\u001b[0;34m)\u001b[0m\u001b[0;34m)\u001b[0m\u001b[0;34m)\u001b[0m\u001b[0;34m\u001b[0m\u001b[0;34m\u001b[0m\u001b[0m\n",
            "\u001b[0;32m<ipython-input-64-ef8055ec0d15>\u001b[0m in \u001b[0;36mbackward_pass\u001b[0;34m(self, output_error)\u001b[0m\n\u001b[1;32m     49\u001b[0m         \u001b[0;32mdef\u001b[0m \u001b[0mbackward_pass\u001b[0m\u001b[0;34m(\u001b[0m\u001b[0mself\u001b[0m\u001b[0;34m,\u001b[0m \u001b[0moutput_error\u001b[0m\u001b[0;34m)\u001b[0m\u001b[0;34m:\u001b[0m\u001b[0;34m\u001b[0m\u001b[0;34m\u001b[0m\u001b[0m\n\u001b[1;32m     50\u001b[0m             \u001b[0minput_error\u001b[0m \u001b[0;34m=\u001b[0m \u001b[0moutput_error\u001b[0m \u001b[0;34m@\u001b[0m \u001b[0mself\u001b[0m\u001b[0;34m.\u001b[0m\u001b[0mfeatures_weights\u001b[0m\u001b[0;34m.\u001b[0m\u001b[0mT\u001b[0m\u001b[0;34m\u001b[0m\u001b[0;34m\u001b[0m\u001b[0m\n\u001b[0;32m---> 51\u001b[0;31m             \u001b[0mweights_error\u001b[0m \u001b[0;34m=\u001b[0m \u001b[0mself\u001b[0m\u001b[0;34m.\u001b[0m\u001b[0minput\u001b[0m\u001b[0;34m.\u001b[0m\u001b[0mT\u001b[0m \u001b[0;34m@\u001b[0m \u001b[0moutput_error\u001b[0m \u001b[0;34m+\u001b[0m \u001b[0mself\u001b[0m\u001b[0;34m.\u001b[0m\u001b[0mreg_const\u001b[0m \u001b[0;34m*\u001b[0m \u001b[0mself\u001b[0m\u001b[0;34m.\u001b[0m\u001b[0mreg_prime\u001b[0m\u001b[0;34m(\u001b[0m\u001b[0mself\u001b[0m\u001b[0;34m.\u001b[0m\u001b[0mfeatures_weights\u001b[0m\u001b[0;34m)\u001b[0m\u001b[0;34m\u001b[0m\u001b[0;34m\u001b[0m\u001b[0m\n\u001b[0m\u001b[1;32m     52\u001b[0m             \u001b[0mbias_error\u001b[0m \u001b[0;34m=\u001b[0m \u001b[0mnp\u001b[0m\u001b[0;34m.\u001b[0m\u001b[0msum\u001b[0m\u001b[0;34m(\u001b[0m\u001b[0moutput_error\u001b[0m\u001b[0;34m,\u001b[0m \u001b[0maxis\u001b[0m\u001b[0;34m=\u001b[0m\u001b[0;36m0\u001b[0m\u001b[0;34m)\u001b[0m\u001b[0;34m\u001b[0m\u001b[0;34m\u001b[0m\u001b[0m\n\u001b[1;32m     53\u001b[0m \u001b[0;34m\u001b[0m\u001b[0m\n",
            "\u001b[0;31mKeyboardInterrupt\u001b[0m: "
          ]
        }
      ]
    },
    {
      "cell_type": "code",
      "metadata": {
        "id": "hO8BTAQ_gNNd"
      },
      "source": [
        "val = np.argmax(nn.predict(X_train), axis=1)"
      ],
      "execution_count": null,
      "outputs": []
    },
    {
      "cell_type": "code",
      "metadata": {
        "colab": {
          "base_uri": "https://localhost:8080/"
        },
        "id": "UDFUgVcoxHYl",
        "outputId": "76520d2b-cc0d-46d6-fc77-20b40a6561f9"
      },
      "source": [
        "print(y_train[0], val[0])"
      ],
      "execution_count": null,
      "outputs": [
        {
          "output_type": "stream",
          "name": "stdout",
          "text": [
            "5 8\n"
          ]
        }
      ]
    },
    {
      "cell_type": "code",
      "metadata": {
        "colab": {
          "base_uri": "https://localhost:8080/"
        },
        "id": "yRBJDzznonnz",
        "outputId": "4fa3062e-f986-433e-bf33-d1af611c4ec8"
      },
      "source": [
        "cnt = 0\n",
        "for i in range(val.shape[0]):\n",
        "    if val[i] == y_train[i]:\n",
        "        cnt += 1\n",
        "\n",
        "print(cnt / val.shape[0])"
      ],
      "execution_count": null,
      "outputs": [
        {
          "output_type": "stream",
          "name": "stdout",
          "text": [
            "0.22102\n"
          ]
        }
      ]
    },
    {
      "cell_type": "code",
      "metadata": {
        "id": "SdW1MBJxwt3O"
      },
      "source": [
        ""
      ],
      "execution_count": null,
      "outputs": []
    }
  ]
}